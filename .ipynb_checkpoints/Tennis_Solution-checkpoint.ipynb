{
 "cells": [
  {
   "cell_type": "markdown",
   "metadata": {},
   "source": [
    "# Project 3: Collaboration and Competition\n",
    "\n",
    "---\n",
    "\n",
    "In this notebook, you will learn how to use the Unity ML-Agents environment for the third project of the [Deep Reinforcement Learning Nanodegree](https://www.udacity.com/course/deep-reinforcement-learning-nanodegree--nd893) program.\n",
    "\n",
    "### 1. Start the Environment\n",
    "\n",
    "We begin by importing the necessary packages.  If the code cell below returns an error, please revisit the project instructions to double-check that you have installed [Unity ML-Agents](https://github.com/Unity-Technologies/ml-agents/blob/master/docs/Installation.md) and [NumPy](http://www.numpy.org/)."
   ]
  },
  {
   "cell_type": "code",
   "execution_count": 1,
   "metadata": {},
   "outputs": [],
   "source": [
    "from unityagents import UnityEnvironment\n",
    "import numpy as np\n",
    "import random\n",
    "import torch\n",
    "from collections import deque\n",
    "import matplotlib.pyplot as plt\n",
    "%matplotlib inline\n",
    "\n",
    "from ddpg_agent import Agent\n",
    "\n",
    "plt.style.use('fivethirtyeight')\n",
    "\n",
    "%load_ext autoreload\n",
    "%autoreload 2\n",
    "\n",
    "import warnings\n",
    "warnings.filterwarnings('ignore')"
   ]
  },
  {
   "cell_type": "markdown",
   "metadata": {},
   "source": [
    "Next, we will start the environment!  **_Before running the code cell below_**, change the `file_name` parameter to match the location of the Unity environment that you downloaded.\n",
    "\n",
    "- **Mac**: `\"path/to/Tennis.app\"`\n",
    "- **Windows** (x86): `\"path/to/Tennis_Windows_x86/Tennis.exe\"`\n",
    "- **Windows** (x86_64): `\"path/to/Tennis_Windows_x86_64/Tennis.exe\"`\n",
    "- **Linux** (x86): `\"path/to/Tennis_Linux/Tennis.x86\"`\n",
    "- **Linux** (x86_64): `\"path/to/Tennis_Linux/Tennis.x86_64\"`\n",
    "- **Linux** (x86, headless): `\"path/to/Tennis_Linux_NoVis/Tennis.x86\"`\n",
    "- **Linux** (x86_64, headless): `\"path/to/Tennis_Linux_NoVis/Tennis.x86_64\"`\n",
    "\n",
    "For instance, if you are using a Mac, then you downloaded `Tennis.app`.  If this file is in the same folder as the notebook, then the line below should appear as follows:\n",
    "```\n",
    "env = UnityEnvironment(file_name=\"Tennis.app\")\n",
    "```"
   ]
  },
  {
   "cell_type": "code",
   "execution_count": 2,
   "metadata": {},
   "outputs": [
    {
     "name": "stderr",
     "output_type": "stream",
     "text": [
      "INFO:unityagents:\n",
      "'Academy' started successfully!\n",
      "Unity Academy name: Academy\n",
      "        Number of Brains: 1\n",
      "        Number of External Brains : 1\n",
      "        Lesson number : 0\n",
      "        Reset Parameters :\n",
      "\t\t\n",
      "Unity brain name: TennisBrain\n",
      "        Number of Visual Observations (per agent): 0\n",
      "        Vector Observation space type: continuous\n",
      "        Vector Observation space size (per agent): 8\n",
      "        Number of stacked Vector Observation: 3\n",
      "        Vector Action space type: continuous\n",
      "        Vector Action space size (per agent): 2\n",
      "        Vector Action descriptions: , \n"
     ]
    }
   ],
   "source": [
    "# Under Linux\n",
    "#env = UnityEnvironment(file_name='Tennis_Linux/Tennis.x86_64', seed=123)\n",
    "\n",
    "# Under Windows\n",
    "env = UnityEnvironment(file_name='Tennis.app', seed=123)"
   ]
  },
  {
   "cell_type": "markdown",
   "metadata": {},
   "source": [
    "Environments contain **_brains_** which are responsible for deciding the actions of their associated agents. Here we check for the first brain available, and set it as the default brain we will be controlling from Python."
   ]
  },
  {
   "cell_type": "code",
   "execution_count": 3,
   "metadata": {},
   "outputs": [],
   "source": [
    "# get the default brain\n",
    "brain_name = env.brain_names[0]\n",
    "brain = env.brains[brain_name]"
   ]
  },
  {
   "cell_type": "markdown",
   "metadata": {},
   "source": [
    "### 2. Examine the State and Action Spaces\n",
    "\n",
    "In this environment, two agents control rackets to bounce a ball over a net. If an agent hits the ball over the net, it receives a reward of +0.1.  If an agent lets a ball hit the ground or hits the ball out of bounds, it receives a reward of -0.01.  Thus, the goal of each agent is to keep the ball in play.\n",
    "\n",
    "The observation space consists of 8 variables corresponding to the position and velocity of the ball and racket. Two continuous actions are available, corresponding to movement toward (or away from) the net, and jumping. \n",
    "\n",
    "Run the code cell below to print some information about the environment."
   ]
  },
  {
   "cell_type": "code",
   "execution_count": 4,
   "metadata": {},
   "outputs": [
    {
     "name": "stdout",
     "output_type": "stream",
     "text": [
      "Number of agents: 2\n",
      "Size of each action: 2\n",
      "There are 2 agents. Each observes a state with length: 24\n",
      "The state for the first agent looks like: [ 0.          0.          0.          0.          0.          0.\n",
      "  0.          0.          0.          0.          0.          0.\n",
      "  0.          0.          0.          0.         -6.51024199 -1.5\n",
      " -0.          0.          6.80061245  6.         -0.          0.        ]\n"
     ]
    }
   ],
   "source": [
    "# reset the environment\n",
    "env_info = env.reset(train_mode=True)[brain_name]\n",
    "\n",
    "# number of agents \n",
    "num_agents = len(env_info.agents)\n",
    "print('Number of agents:', num_agents)\n",
    "\n",
    "# size of each action\n",
    "action_size = brain.vector_action_space_size\n",
    "print('Size of each action:', action_size)\n",
    "\n",
    "# examine the state space \n",
    "states = env_info.vector_observations\n",
    "state_size = states.shape[1]\n",
    "print('There are {} agents. Each observes a state with length: {}'.format(states.shape[0], state_size))\n",
    "print('The state for the first agent looks like:', states[0])"
   ]
  },
  {
   "cell_type": "markdown",
   "metadata": {},
   "source": [
    "### 3. Take Random Actions in the Environment\n",
    "\n",
    "In the next code cell, you will learn how to use the Python API to control the agents and receive feedback from the environment.\n",
    "\n",
    "Once this cell is executed, you will watch the agents' performance, if they select actions at random with each time step.  A window should pop up that allows you to observe the agents.\n",
    "\n",
    "Of course, as part of the project, you'll have to change the code so that the agents are able to use their experiences to gradually choose better actions when interacting with the environment!"
   ]
  },
  {
   "cell_type": "code",
   "execution_count": 5,
   "metadata": {},
   "outputs": [
    {
     "name": "stdout",
     "output_type": "stream",
     "text": [
      "Score (max over agents) from episode 1: 0.0\n",
      "Score (max over agents) from episode 2: 0.0\n",
      "Score (max over agents) from episode 3: 0.0\n",
      "Score (max over agents) from episode 4: 0.10000000149011612\n",
      "Score (max over agents) from episode 5: 0.0\n",
      "Score (max over agents) from episode 6: 0.0\n",
      "Score (max over agents) from episode 7: 0.10000000149011612\n",
      "Score (max over agents) from episode 8: 0.0\n",
      "Score (max over agents) from episode 9: 0.10000000149011612\n",
      "Score (max over agents) from episode 10: 0.0\n",
      "Score (max over agents) from episode 11: 0.0\n",
      "Score (max over agents) from episode 12: 0.0\n",
      "Score (max over agents) from episode 13: 0.0\n",
      "Score (max over agents) from episode 14: 0.0\n",
      "Score (max over agents) from episode 15: 0.0\n",
      "Score (max over agents) from episode 16: 0.0\n",
      "Score (max over agents) from episode 17: 0.0\n",
      "Score (max over agents) from episode 18: 0.0\n",
      "Score (max over agents) from episode 19: 0.0\n"
     ]
    }
   ],
   "source": [
    "for i in range(1, 20):                                      # play game for 5 episodes\n",
    "    env_info = env.reset(train_mode=True)[brain_name]     # reset the environment    \n",
    "    states = env_info.vector_observations                  # get the current state (for each agent)\n",
    "    scores = np.zeros(num_agents)                          # initialize the score (for each agent)\n",
    "    while True:\n",
    "        actions = np.random.randn(num_agents, action_size) # select an action (for each agent)\n",
    "        actions = np.clip(actions, -1, 1)                  # all actions between -1 and 1\n",
    "        env_info = env.step(actions)[brain_name]           # send all actions to tne environment\n",
    "        next_states = env_info.vector_observations         # get next state (for each agent)\n",
    "        rewards = env_info.rewards                         # get reward (for each agent)\n",
    "        dones = env_info.local_done                        # see if episode finished\n",
    "        scores += env_info.rewards                         # update the score (for each agent)\n",
    "        states = next_states                               # roll over states to next time step\n",
    "        if np.any(dones):                                  # exit loop if episode finished\n",
    "            break\n",
    "    print('Score (max over agents) from episode {}: {}'.format(i, np.max(scores)))"
   ]
  },
  {
   "cell_type": "markdown",
   "metadata": {},
   "source": [
    "When finished, you can close the environment."
   ]
  },
  {
   "cell_type": "markdown",
   "metadata": {},
   "source": [
    "env.close()"
   ]
  },
  {
   "cell_type": "markdown",
   "metadata": {},
   "source": [
    "### 4. It's Your Turn!\n",
    "\n",
    "Now it's your turn to train your own agent to solve the environment!  When training the environment, set `train_mode=True`, so that the line for resetting the environment looks like the following:\n",
    "```python\n",
    "env_info = env.reset(train_mode=True)[brain_name]\n",
    "```"
   ]
  },
  {
   "cell_type": "markdown",
   "metadata": {},
   "source": [
    "### 5. Competing multi-agents as multiple non-competing agents"
   ]
  },
  {
   "cell_type": "code",
   "execution_count": 6,
   "metadata": {},
   "outputs": [],
   "source": [
    "# Utilities functions\n",
    "def unity_step_wrap(actions):\n",
    "    \"\"\"Unity Environment action wrapper\n",
    "    \n",
    "    Params\n",
    "    ======\n",
    "        action (int): action to take\n",
    "     \n",
    "    Return\n",
    "    ======\n",
    "        OpenAI-like action outcome (tuple): bundled (next_state, reward, done)\n",
    "    \"\"\"\n",
    "    env_info = env.step(actions)[brain_name]        # send the action to the environment\n",
    "    next_states = env_info.vector_observations      # get the next state\n",
    "    rewards = env_info.rewards                      # get the reward\n",
    "    dones = env_info.local_done                     # see if episode has finished\n",
    "    return (next_states, rewards, dones)\n",
    "\n",
    "def moving_average(a, n=3) :\n",
    "    ret = np.cumsum(a, dtype=float)\n",
    "    ret[n:] = ret[n:] - ret[:-n]\n",
    "    return ret[n - 1:] / n\n",
    "\n",
    "def plot_scores(scores, smooth_window=100):\n",
    "    scores_smoothed = moving_average(scores, smooth_window)\n",
    "    # plot the scores\n",
    "    fig = plt.figure(figsize=(8, 6))\n",
    "    ax = fig.add_subplot(111)\n",
    "    plt.plot(np.arange(len(scores)), scores, linewidth=1, alpha=0.4, color='steelblue')\n",
    "    plt.plot(np.arange(len(scores))[smooth_window-1:,], scores_smoothed, linewidth=1.5, alpha=1, color='firebrick')\n",
    "    plt.ylabel('Score')\n",
    "    plt.xlabel('Episode #')\n",
    "    plt.show()\n",
    "    return fig\n",
    "\n",
    "def load_checkpoint(filepath):\n",
    "    checkpoint = torch.load(filepath)\n",
    "    return (checkpoint['actor'], checkpoint['critic'], checkpoint['scores'])"
   ]
  },
  {
   "cell_type": "code",
   "execution_count": 7,
   "metadata": {},
   "outputs": [],
   "source": [
    "agent = Agent(state_size=state_size, action_size=action_size, random_seed=2)"
   ]
  },
  {
   "cell_type": "code",
   "execution_count": 8,
   "metadata": {},
   "outputs": [],
   "source": [
    "def ddpg(n_episodes=1000, max_t=1000, print_every=100, learn_every=5, min_noise=0.02, solved_score = 0.5, name=\"default\"):\n",
    "    scores_deque = deque(maxlen=print_every)\n",
    "    scores = []\n",
    "    noise = 1.0\n",
    "    min_noise = min_noise\n",
    "    noise_reduction = min_noise**(1/n_episodes) # Reaches min_noise after n_episodes with exponential decrease\n",
    "      \n",
    "    for i_episode in range(1, n_episodes+1):\n",
    "        env_info = env.reset(train_mode=True)[brain_name]\n",
    "        states = env_info.vector_observations                     \n",
    "        \n",
    "        agent.reset()\n",
    "        scores_episode = np.zeros(num_agents)\n",
    "        noise *= noise_reduction\n",
    "        \n",
    "        for t in range(max_t):\n",
    "            actions = agent.act(states, noise=max(noise, min_noise))\n",
    "            next_states, rewards, dones = unity_step_wrap(actions)\n",
    "            \n",
    "            for state, action, reward, next_state, done in zip(states, actions, rewards, next_states, dones):\n",
    "                agent.save_experience(state, action, reward, next_state, done)\n",
    "                \n",
    "            scores_episode += rewards\n",
    "            states = next_states                                \n",
    "                       \n",
    "            if t % learn_every == 0:\n",
    "                agent.step()\n",
    "            \n",
    "            if np.any(dones):\n",
    "                break \n",
    "        \n",
    "        score = np.max(scores_episode)\n",
    "        scores_deque.append(score)\n",
    "        scores.append(score)\n",
    "        \n",
    "        print('\\rEpisode {}\\tAverage Score: {:.2f}'.format(i_episode, np.mean(scores_deque)), end=\"\")\n",
    "    \n",
    "        # Save checkpoint\n",
    "        checkpoint = {\n",
    "            'actor': agent.actor_local.state_dict(),\n",
    "            'critic': agent.critic_local.state_dict(),\n",
    "            'scores': scores\n",
    "        }\n",
    "        torch.save(checkpoint, 'models/checkpoint-' + name + '.pth')\n",
    "        \n",
    "        if i_episode % print_every == 0:\n",
    "            print('\\rEpisode {}\\tAverage Score: {:.2f}'.format(i_episode, np.mean(scores_deque)))\n",
    "            \n",
    "        if np.mean(scores_deque) > solved_score:\n",
    "            break\n",
    "        \n",
    "    return scores"
   ]
  },
  {
   "cell_type": "markdown",
   "metadata": {},
   "source": [
    "* **Solving the Agent environment**\n",
    "#### Hyperparameters\n",
    "Based on lessons learnt from  Project 2 \"Continuous control”, we tuned hyperparameters along the following axis of optimization:\n",
    " - speeding learning by training both Actor and Critic networks 2 times every 5 actions. \n",
    " - increase variety of experiences by tweaking both BUFFER BATCH SIZE of the experience replay buffer and;\n",
    " - stability through clipping gradient and batch normalization.\n"
   ]
  },
  {
   "cell_type": "code",
   "execution_count": 9,
   "metadata": {
    "scrolled": false
   },
   "outputs": [
    {
     "name": "stdout",
     "output_type": "stream",
     "text": [
      "Episode 100\tAverage Score: 0.01\n",
      "Episode 200\tAverage Score: 0.02\n",
      "Episode 300\tAverage Score: 0.00\n",
      "Episode 400\tAverage Score: 0.02\n",
      "Episode 500\tAverage Score: 0.04\n",
      "Episode 600\tAverage Score: 0.05\n",
      "Episode 700\tAverage Score: 0.05\n",
      "Episode 800\tAverage Score: 0.06\n",
      "Episode 900\tAverage Score: 0.08\n",
      "Episode 1000\tAverage Score: 0.10\n",
      "Episode 1100\tAverage Score: 0.14\n",
      "Episode 1200\tAverage Score: 0.13\n",
      "Episode 1300\tAverage Score: 0.14\n",
      "Episode 1400\tAverage Score: 0.21\n",
      "Episode 1463\tAverage Score: 0.51"
     ]
    }
   ],
   "source": [
    "scores = ddpg(n_episodes=10000, min_noise=0.02, learn_every=5, name='solved')"
   ]
  },
  {
   "cell_type": "markdown",
   "metadata": {},
   "source": [
    "#### Agent Training Outcome\n",
    "- The agents are trained until they solve the environment, that is to say when one the two agents obtains an average reward of at least +0:5 over the last 100 episode.\n",
    "- Using the specified setup and after hyperparameters tuning ,the environment was solved in about 1141 episodes in less than 5 min on a laptop and without GPU.\n",
    "\n",
    "##### Plot of the result\n",
    "Below the plot of scores per episode\n"
   ]
  },
  {
   "cell_type": "code",
   "execution_count": 11,
   "metadata": {},
   "outputs": [
    {
     "data": {
      "image/png": "[encoded data removed]",
      "text/plain": [
       "<Figure size 576x432 with 1 Axes>"
      ]
     },
     "metadata": {},
     "output_type": "display_data"
    }
   ],
   "source": [
    "_, _, scores_solved = load_checkpoint('models/checkpoint-solved.pth')\n",
    "figure = plot_scores(scores_solved)\n",
    "figure.savefig(\"images/tennis_solved_scores.png\")"
   ]
  },
  {
   "cell_type": "markdown",
   "metadata": {},
   "source": [
    "* **Monitoring the Agent beyond solving scores in the long run**"
   ]
  },
  {
   "cell_type": "code",
   "execution_count": 12,
   "metadata": {
    "scrolled": true
   },
   "outputs": [
    {
     "name": "stdout",
     "output_type": "stream",
     "text": [
      "Episode 100\tAverage Score: 0.27\n",
      "Episode 200\tAverage Score: 0.22\n",
      "Episode 300\tAverage Score: 0.18\n",
      "Episode 400\tAverage Score: 0.18\n",
      "Episode 500\tAverage Score: 0.18\n",
      "Episode 600\tAverage Score: 0.18\n",
      "Episode 700\tAverage Score: 0.17\n",
      "Episode 800\tAverage Score: 0.13\n",
      "Episode 900\tAverage Score: 0.16\n",
      "Episode 1000\tAverage Score: 0.19\n",
      "Episode 1100\tAverage Score: 0.20\n",
      "Episode 1200\tAverage Score: 0.18\n",
      "Episode 1300\tAverage Score: 0.22\n",
      "Episode 1400\tAverage Score: 0.15\n",
      "Episode 1500\tAverage Score: 0.14\n",
      "Episode 1600\tAverage Score: 0.16\n",
      "Episode 1700\tAverage Score: 0.14\n",
      "Episode 1800\tAverage Score: 0.12\n",
      "Episode 1900\tAverage Score: 0.10\n",
      "Episode 2000\tAverage Score: 0.07\n",
      "Episode 2100\tAverage Score: 0.06\n",
      "Episode 2200\tAverage Score: 0.05\n",
      "Episode 2300\tAverage Score: 0.03\n",
      "Episode 2400\tAverage Score: 0.05\n",
      "Episode 2500\tAverage Score: 0.04\n",
      "Episode 2600\tAverage Score: 0.06\n",
      "Episode 2700\tAverage Score: 0.06\n",
      "Episode 2800\tAverage Score: 0.05\n",
      "Episode 2900\tAverage Score: 0.05\n",
      "Episode 3000\tAverage Score: 0.04\n",
      "Episode 3100\tAverage Score: 0.05\n",
      "Episode 3200\tAverage Score: 0.04\n",
      "Episode 3300\tAverage Score: 0.05\n",
      "Episode 3400\tAverage Score: 0.05\n",
      "Episode 3500\tAverage Score: 0.03\n",
      "Episode 3600\tAverage Score: 0.04\n",
      "Episode 3700\tAverage Score: 0.04\n",
      "Episode 3800\tAverage Score: 0.04\n",
      "Episode 3900\tAverage Score: 0.03\n",
      "Episode 4000\tAverage Score: 0.05\n",
      "Episode 4100\tAverage Score: 0.03\n",
      "Episode 4200\tAverage Score: 0.04\n",
      "Episode 4300\tAverage Score: 0.04\n",
      "Episode 4400\tAverage Score: 0.04\n",
      "Episode 4500\tAverage Score: 0.03\n",
      "Episode 4600\tAverage Score: 0.04\n",
      "Episode 4700\tAverage Score: 0.03\n",
      "Episode 4800\tAverage Score: 0.05\n",
      "Episode 4900\tAverage Score: 0.04\n",
      "Episode 5000\tAverage Score: 0.05\n",
      "Episode 5100\tAverage Score: 0.05\n",
      "Episode 5200\tAverage Score: 0.03\n",
      "Episode 5300\tAverage Score: 0.03\n",
      "Episode 5400\tAverage Score: 0.03\n",
      "Episode 5500\tAverage Score: 0.02\n",
      "Episode 5600\tAverage Score: 0.05\n",
      "Episode 5700\tAverage Score: 0.05\n",
      "Episode 5800\tAverage Score: 0.05\n",
      "Episode 5900\tAverage Score: 0.06\n",
      "Episode 6000\tAverage Score: 0.06\n",
      "Episode 6100\tAverage Score: 0.10\n",
      "Episode 6200\tAverage Score: 0.06\n",
      "Episode 6300\tAverage Score: 0.07\n",
      "Episode 6400\tAverage Score: 0.08\n",
      "Episode 6500\tAverage Score: 0.09\n",
      "Episode 6600\tAverage Score: 0.11\n",
      "Episode 6700\tAverage Score: 0.19\n",
      "Episode 6800\tAverage Score: 0.24\n",
      "Episode 6900\tAverage Score: 0.11\n",
      "Episode 7000\tAverage Score: 0.09\n",
      "Episode 7100\tAverage Score: 0.08\n",
      "Episode 7200\tAverage Score: 0.20\n",
      "Episode 7300\tAverage Score: 0.07\n",
      "Episode 7400\tAverage Score: 0.07\n",
      "Episode 7500\tAverage Score: 0.00\n",
      "Episode 7600\tAverage Score: 0.00\n",
      "Episode 7700\tAverage Score: 0.00\n",
      "Episode 7800\tAverage Score: 0.00\n",
      "Episode 7900\tAverage Score: 0.02\n",
      "Episode 8000\tAverage Score: 0.09\n",
      "Episode 8100\tAverage Score: 0.07\n",
      "Episode 8200\tAverage Score: 0.09\n",
      "Episode 8300\tAverage Score: 0.05\n",
      "Episode 8400\tAverage Score: 0.00\n",
      "Episode 8500\tAverage Score: 0.00\n",
      "Episode 8600\tAverage Score: 0.01\n",
      "Episode 8700\tAverage Score: 0.02\n",
      "Episode 8800\tAverage Score: 0.03\n",
      "Episode 8900\tAverage Score: 0.01\n",
      "Episode 9000\tAverage Score: 0.00\n",
      "Episode 9100\tAverage Score: 0.00\n",
      "Episode 9200\tAverage Score: 0.00\n",
      "Episode 9300\tAverage Score: 0.00\n",
      "Episode 9400\tAverage Score: 0.00\n",
      "Episode 9500\tAverage Score: 0.00\n",
      "Episode 9600\tAverage Score: 0.00\n",
      "Episode 9700\tAverage Score: 0.00\n",
      "Episode 9800\tAverage Score: 0.01\n",
      "Episode 9900\tAverage Score: 0.09\n",
      "Episode 10000\tAverage Score: 0.09\n"
     ]
    }
   ],
   "source": [
    "scores = ddpg(n_episodes=10000, min_noise=0.01, learn_every=5, solved_score = 99, name='in-the-long-run')"
   ]
  },
  {
   "cell_type": "markdown",
   "metadata": {},
   "source": [
    "#### The plot below highlighting the instability of the learning after having solved the environment."
   ]
  },
  {
   "cell_type": "code",
   "execution_count": 13,
   "metadata": {},
   "outputs": [
    {
     "data": {
      "image/png": "[encoded data removed]",
      "text/plain": [
       "<Figure size 576x432 with 1 Axes>"
      ]
     },
     "metadata": {},
     "output_type": "display_data"
    }
   ],
   "source": [
    "_, _, scores_long_run = load_checkpoint('models/checkpoint-in-the-long-run.pth')\n",
    "figure = plot_scores(scores_long_run)\n",
    "figure.savefig(\"images/scores_long_run.png\")"
   ]
  },
  {
   "cell_type": "markdown",
   "metadata": {},
   "source": [
    "* **Watching solved environment agent in action**"
   ]
  },
  {
   "cell_type": "code",
   "execution_count": 14,
   "metadata": {},
   "outputs": [],
   "source": [
    "# Reloading networks weights\n",
    "actor_weights, critic_weights, scores_solved = load_checkpoint('models/checkpoint-solved.pth')\n",
    "\n",
    "# Instantiating the agent\n",
    "agent = Agent(state_size=state_size, action_size=action_size, random_seed=2)\n",
    "agent.actor_local.load_state_dict(actor_weights)\n",
    "agent.critic_local.load_state_dict(critic_weights)"
   ]
  },
  {
   "cell_type": "code",
   "execution_count": 15,
   "metadata": {},
   "outputs": [
    {
     "name": "stdout",
     "output_type": "stream",
     "text": [
      "Score (max over agents) from episode 1: 0.7000000104308128\n",
      "Score (max over agents) from episode 2: 0.0\n",
      "Score (max over agents) from episode 3: 0.10000000149011612\n",
      "Score (max over agents) from episode 4: 0.20000000298023224\n",
      "Score (max over agents) from episode 5: 0.10000000149011612\n",
      "Score (max over agents) from episode 6: 0.0\n",
      "Score (max over agents) from episode 7: 0.20000000298023224\n",
      "Score (max over agents) from episode 8: 0.6000000089406967\n",
      "Score (max over agents) from episode 9: 0.20000000298023224\n",
      "Score (max over agents) from episode 10: 0.6000000089406967\n",
      "Score (max over agents) from episode 11: 0.0\n",
      "Score (max over agents) from episode 12: 0.19000000320374966\n",
      "Score (max over agents) from episode 13: 0.800000011920929\n",
      "Score (max over agents) from episode 14: 0.10000000149011612\n",
      "Score (max over agents) from episode 15: 0.20000000298023224\n",
      "Score (max over agents) from episode 16: 0.20000000298023224\n",
      "Score (max over agents) from episode 17: 0.19000000320374966\n",
      "Score (max over agents) from episode 18: 0.20000000298023224\n",
      "Score (max over agents) from episode 19: 0.19000000320374966\n",
      "Score (max over agents) from episode 20: 0.0\n",
      "Score (max over agents) from episode 21: 0.4000000059604645\n",
      "Score (max over agents) from episode 22: 0.30000000447034836\n",
      "Score (max over agents) from episode 23: 0.0\n",
      "Score (max over agents) from episode 24: 0.10000000149011612\n",
      "Score (max over agents) from episode 25: 0.3900000061839819\n",
      "Score (max over agents) from episode 26: 0.10000000149011612\n",
      "Score (max over agents) from episode 27: 0.20000000298023224\n",
      "Score (max over agents) from episode 28: 0.20000000298023224\n",
      "Score (max over agents) from episode 29: 0.4000000059604645\n"
     ]
    }
   ],
   "source": [
    "# Agent acting over 30 episodes\n",
    "for i in range(1, 30):                                     # play game for 30 episodes\n",
    "    env_info = env.reset(train_mode=False)[brain_name]     # reset the environment    \n",
    "    states = env_info.vector_observations                  # get the current state (for each agent)\n",
    "    scores = np.zeros(num_agents)                          # initialize the score (for each agent)\n",
    "    while True:\n",
    "        actions = agent.act(states)\n",
    "        env_info = env.step(actions)[brain_name]           # send all actions to tne environment\n",
    "        next_states = env_info.vector_observations         # get next state (for each agent)\n",
    "        rewards = env_info.rewards                         # get reward (for each agent)\n",
    "        dones = env_info.local_done                        # see if episode finished\n",
    "        scores += env_info.rewards                         # update the score (for each agent)\n",
    "        states = next_states                               # roll over states to next time step\n",
    "        if np.any(dones):                                  # exit loop if episode finished\n",
    "            break\n",
    "    print('Score (max over agents) from episode {}: {}'.format(i, np.max(scores)))"
   ]
  },
  {
   "cell_type": "markdown",
   "metadata": {},
   "source": [
    "## Ideas for future work\n",
    " - Try to apply this concept in a much more challenging environment like the soccer game.\n",
    " - Hyperparameter optimization"
   ]
  },
  {
   "cell_type": "code",
   "execution_count": null,
   "metadata": {},
   "outputs": [],
   "source": []
  }
 ],
 "metadata": {
  "kernelspec": {
   "display_name": "drlnd",
   "language": "python",
   "name": "drlnd"
  },
  "language_info": {
   "codemirror_mode": {
    "name": "ipython",
    "version": 3
   },
   "file_extension": ".py",
   "mimetype": "text/x-python",
   "name": "python",
   "nbconvert_exporter": "python",
   "pygments_lexer": "ipython3",
   "version": "3.6.10"
  }
 },
 "nbformat": 4,
 "nbformat_minor": 2
}
